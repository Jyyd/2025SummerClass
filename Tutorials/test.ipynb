{
 "cells": [
  {
   "cell_type": "code",
   "execution_count": 1,
   "id": "20e42e96",
   "metadata": {},
   "outputs": [
    {
     "name": "stdout",
     "output_type": "stream",
     "text": [
      "Hello, World!\n"
     ]
    }
   ],
   "source": [
    "print(\"Hello, World!\")"
   ]
  },
  {
   "cell_type": "code",
   "execution_count": 2,
   "id": "314b6c34",
   "metadata": {},
   "outputs": [
    {
     "name": "stdout",
     "output_type": "stream",
     "text": [
      "Hello\n"
     ]
    }
   ],
   "source": [
    "# 单行注释\n",
    "''' 多行注释或函数说明 '''\n",
    "print(\"Hello\")"
   ]
  },
  {
   "cell_type": "code",
   "execution_count": null,
   "id": "0cc7e648",
   "metadata": {},
   "outputs": [
    {
     "name": "stdout",
     "output_type": "stream",
     "text": [
      "Area of the circle: 78.5\n",
      "-----------------------------------\n",
      "List:  ['apple', 'banana', 'cherry']\n",
      "Updated List:  ['apple', 'cherry', 'orange']\n",
      "-----------------------------------\n",
      "Tuples:  ('red', 'green', 'blue')\n",
      "Updated Colors List:  ['red', 'green', 'blue', 'yellow']\n",
      "-----------------------------------\n",
      "Set:  {1, 2, 3, 4, 5}\n",
      "Updated Set:  {1, 2, 4, 5, 6}\n",
      "-----------------------------------\n",
      "{'name': 'Alice', 'age': 25}\n",
      "Name:  Alice\n",
      "Updated Age:  26\n",
      "Updated Dictionary:  {'name': 'Alice', 'age': 26}\n",
      "-----------------------------------\n",
      "Name: Alice, Age: 25\n",
      "Name: Bob, Age: 22\n"
     ]
    }
   ],
   "source": [
    "# 标识符\n",
    "age = 25 # 定义整数\n",
    "pi = 3.14 # 定义浮点数\n",
    "user_name = \"Alice\" # 定义字符串\n",
    "is_valid = True # 定义布尔值\n",
    "MAX_SIZE = 1024 # 定义常量，常量通常以大写字母命名\n",
    "_total = 100 # 定义私有变量 __private_var， 私有变量通常以单下划线开头\n",
    "\n",
    "# 定义一个函数\n",
    "def calculate_area():\n",
    "    \"\"\"计算圆的面积\"\"\"\n",
    "    radius = 5\n",
    "    area = pi * (radius ** 2)\n",
    "    print(f\"Area of the circle: {area}\")\n",
    "calculate_area() # 使用函数\n",
    "\n",
    "# 定义一个列表\n",
    "fruits = [\"apple\", \"banana\", \"cherry\"] # 定义列表\n",
    "print(\"-----------------------------------\")\n",
    "print(\"List: \", fruits) # 访问列表中的值\n",
    "fruits.append(\"orange\") # 向列表中添加一个元素 *重要*\n",
    "fruits.remove(\"banana\") # 从列表中删除一个元素\n",
    "print(\"Updated List: \", fruits) # 打印更新后的列表\n",
    "# 定义一个元组\n",
    "print(\"-----------------------------------\")\n",
    "colors = (\"red\", \"green\", \"blue\") # 定义元组\n",
    "print(\"Tuples: \", colors) # 访问元组中的值\n",
    "colors_list = list(colors) # 将元组转换为列表\n",
    "colors_list.append(\"yellow\") # 向列表中添加一个元素\n",
    "print(\"Updated Colors List: \", colors_list) # 打印更新后的列表\n",
    "# 定义一个集合\n",
    "print(\"-----------------------------------\")\n",
    "unique_numbers = {1, 2, 3, 4, 5}\n",
    "print(\"Set: \", unique_numbers) # 定义集合\n",
    "unique_numbers.add(6) # 向集合中添加一个元素\n",
    "unique_numbers.remove(3) # 从集合中删除一个元素\n",
    "print(\"Updated Set: \", unique_numbers) # 打印更新后的集合\n",
    "# 定义一个字典\n",
    "print(\"-----------------------------------\")\n",
    "StudentInfo = {\"name\": \"Alice\", \"age\": 25} # 定义字典\n",
    "print(StudentInfo) # 访问字典中的值\n",
    "print(\"Name: \", StudentInfo[\"name\"]) # 访问字典中的键\n",
    "StudentInfo[\"age\"] = 26 # 更新字典中的值\n",
    "print(\"Updated Age: \", StudentInfo[\"age\"]) # 打印更新后的值\n",
    "print(\"Updated Dictionary: \", StudentInfo) # 打印更新后的字典  \n",
    "\n",
    "# 定义一个类\n",
    "print(\"-----------------------------------\")\n",
    "class Student:\n",
    "    \"\"\"学生类\"\"\"\n",
    "    def __init__(self, name, age):\n",
    "        self.name = name  # 实例变量\n",
    "        self.age = age    # 实例变量\n",
    "\n",
    "    def display_info(self):\n",
    "        \"\"\"显示学生信息\"\"\"\n",
    "        print(f\"Name: {self.name}, Age: {self.age}\")\n",
    "# 创建类的实例\n",
    "student1 = Student(\"Alice\", 25)\n",
    "student2 = Student(\"Bob\", 22) # 创建另一个实例\n",
    "student1.display_info() # 调用类的方法\n",
    "student2.display_info() # 调用另一个实例的方法\n",
    "\n",
    "# # 错误的标识符示例\n",
    "# 2nd_place = \"silver\"    # 错误：以数字开头\n",
    "# user-name = \"Bob\"       # 错误：包含连字符\n",
    "# class = \"Math\"          # 错误：使用关键字\n",
    "# $price = 9.99          # 错误：包含特殊字符\n",
    "# for = \"loop\"           # 错误：使用关键字"
   ]
  },
  {
   "cell_type": "code",
   "execution_count": null,
   "id": "8288e3ae",
   "metadata": {},
   "outputs": [],
   "source": [
    "import json # JSON 库：用于处理 JSON 数据\n",
    "import numpy as np # NumPy 库：用于科学计算\n",
    "from datetime import datetime, timedelta # datetime 库：用于处理日期和时间\n",
    "import pandas as pd # Pandas 库：用于数据分析和处理\n",
    "from tqdm import trange # tqdm 库：用于显示进度条\n",
    "\n",
    "\n",
    "import pandas as pd\n",
    "import numpy as np\n",
    "import matplotlib.pyplot as plt # Matplotlib 库：用于绘图\n",
    "from matplotlib.dates import DateFormatter # Matplotlib 库：用于处理日期格式\n",
    "\n",
    "# pip install tqdm json numpy pandas matplotlib 安装"
   ]
  },
  {
   "cell_type": "code",
   "execution_count": 9,
   "id": "0072aeec",
   "metadata": {},
   "outputs": [
    {
     "name": "stdout",
     "output_type": "stream",
     "text": [
      "正数\n"
     ]
    }
   ],
   "source": [
    "# 条件语句示例\n",
    "x = 10\n",
    "if x > 0:\n",
    "    print(\"正数\")\n",
    "elif x == 0:\n",
    "    print(\"零\")\n",
    "else:\n",
    "    print(\"负数\")"
   ]
  },
  {
   "cell_type": "code",
   "execution_count": null,
   "id": "2a633697",
   "metadata": {},
   "outputs": [
    {
     "name": "stdout",
     "output_type": "stream",
     "text": [
      "-----------------------------------\n",
      "For Loop:  [0, 1, 2]\n",
      "-----------------------------------\n",
      "While Loop: 0\n",
      "-----------------------------------\n",
      "For Loop with Continue:  [0, 1, 3, 4]\n"
     ]
    }
   ],
   "source": [
    "# 循环示例\n",
    "print(\"-----------------------------------\")\n",
    "ex1 = []\n",
    "for i in range(3):\n",
    "    ex1.append(i)\n",
    "print(\"For Loop: \", ex1)\n",
    "print(\"-----------------------------------\")\n",
    "x = 5 # 将变量 x 的值设置为 5\n",
    "print(\"While Loop: \", end=\"\")\n",
    "while x > 0:\n",
    "    x -= 1\n",
    "print(x)\n",
    "print(\"-----------------------------------\")\n",
    "# continue: 跳过当次循环 \n",
    "# break：提前结束循环\n",
    "# pass：占位语句，不做任何操作\n",
    "ex2 = []\n",
    "for i in range(5):\n",
    "    if i == 2:\n",
    "        continue\n",
    "    ex2.append(i)\n",
    "print(\"For Loop with Continue: \", ex2)"
   ]
  }
 ],
 "metadata": {
  "kernelspec": {
   "display_name": "base",
   "language": "python",
   "name": "python3"
  },
  "language_info": {
   "codemirror_mode": {
    "name": "ipython",
    "version": 3
   },
   "file_extension": ".py",
   "mimetype": "text/x-python",
   "name": "python",
   "nbconvert_exporter": "python",
   "pygments_lexer": "ipython3",
   "version": "3.9.12"
  }
 },
 "nbformat": 4,
 "nbformat_minor": 5
}
